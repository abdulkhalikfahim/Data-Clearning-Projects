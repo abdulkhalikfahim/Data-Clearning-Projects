{
 "cells": [
  {
   "cell_type": "markdown",
   "id": "20a0da13",
   "metadata": {},
   "source": [
    "# Importing libraries and data file"
   ]
  },
  {
   "cell_type": "code",
   "execution_count": 48,
   "id": "eeb190d7",
   "metadata": {},
   "outputs": [],
   "source": [
    "#importing libraries\n",
    "import pandas as pd\n",
    "import numpy as np\n",
    "import matplotlib.pyplot as plt\n",
    "import warnings\n",
    "warnings.filterwarnings('ignore')"
   ]
  },
  {
   "cell_type": "code",
   "execution_count": 2,
   "id": "8f826727",
   "metadata": {},
   "outputs": [],
   "source": [
    "#importing data\n",
    "#renamed data file to avoid errors\n",
    "df = pd.read_excel(\"Datasheet23.xlsx\")"
   ]
  },
  {
   "cell_type": "markdown",
   "id": "e43aec6d",
   "metadata": {},
   "source": [
    "# Basic Statistics"
   ]
  },
  {
   "cell_type": "code",
   "execution_count": 129,
   "id": "68bb1054",
   "metadata": {},
   "outputs": [],
   "source": [
    "#calculating missing data percentage\n",
    "percentage = df.isnull().sum()*100/len(df)\n",
    "\n",
    "#storing and presenting data\n",
    "df2 = pd.DataFrame({'Column':df.columns,\n",
    "                    'Percentage_missing':percentage})\n",
    "df2.index = np.arange(0,len(df2))\n",
    "# print(df2.tail())"
   ]
  },
  {
   "cell_type": "code",
   "execution_count": 180,
   "id": "a9f2ed50",
   "metadata": {},
   "outputs": [],
   "source": [
    "#basic statistics\n",
    "#slicing rainfall data into temporary df\n",
    "tdf = df.iloc[:,3:27]\n",
    "\n",
    "#calculating and presenting data\n",
    "df3 = pd.DataFrame({'Mean':tdf.mean(),'Variance':tdf.var(),\n",
    "                    'Standard Deviation':tdf.std(),'Skewness':tdf.skew()})\n",
    "#dry probability of 35 years\n",
    "# print(len(df[df['daily'] < 0.2])/len(df))\n",
    "# print(df3)"
   ]
  },
  {
   "cell_type": "markdown",
   "id": "02a75da8",
   "metadata": {},
   "source": [
    "# Time Series"
   ]
  },
  {
   "cell_type": "code",
   "execution_count": 5,
   "id": "d9bcfbdd",
   "metadata": {},
   "outputs": [],
   "source": [
    "#summing 24 hour data\n",
    "df['daily']= df[df.columns[3:28]].sum(axis=1)"
   ]
  },
  {
   "cell_type": "code",
   "execution_count": 181,
   "id": "c57f5d22",
   "metadata": {},
   "outputs": [
    {
     "data": {
      "image/png": "[encoded data removed]",
      "text/plain": [
       "<Figure size 432x288 with 1 Axes>"
      ]
     },
     "metadata": {
      "needs_background": "light"
     },
     "output_type": "display_data"
    }
   ],
   "source": [
    "#calculating monthly rainfall\n",
    "m_rain = list()\n",
    "mx_rain = list()\n",
    "for i in range(35):\n",
    "    for j in range(12):\n",
    "        data = df[(df['year']==1969+i) & (df['month']==j+1)]\n",
    "        m_rain.append(data['daily'].mean())\n",
    "        mx_rain.append(data['daily'].max())\n",
    "\n",
    "#generating time data for 35*12 months\n",
    "dt = pd.date_range('1969-01',periods=420,freq=\"M\")\n",
    "\n",
    "#creating monthly rainfall df\n",
    "mrdf = pd.DataFrame({'Year':dt,'Avg Monthly Rainfall':m_rain,\n",
    "                     'Max Rainfall':mx_rain})\n",
    "\n",
    "#visualizing the data\n",
    "#monthly maximum rainfall\n",
    "# print(mrdf.head())\n",
    "#time series\n",
    "plt.plot(mrdf['Year'],mrdf['Avg Monthly Rainfall'],\n",
    "         label='Time Series',color='grey')\n",
    "plt.xlabel('Year')\n",
    "plt.ylabel('Monthly Avg Rainfall (mm)')\n",
    "plt.title('Time Series')\n",
    "plt.legend()\n",
    "plt.show()"
   ]
  },
  {
   "cell_type": "markdown",
   "id": "0bbe83cc",
   "metadata": {},
   "source": [
    "# Three hours aggregate"
   ]
  },
  {
   "cell_type": "code",
   "execution_count": 183,
   "id": "50db0af5",
   "metadata": {},
   "outputs": [],
   "source": [
    "#generating datetime\n",
    "ndt = pd.date_range('1969-01',periods=12783,freq=\"D\")\n",
    "\n",
    "#generating data\n",
    "df_3 = pd.DataFrame({'Date':ndt,\n",
    "                    'HRF 1-3':tdf[tdf.columns[0:3]].sum(axis=1),\n",
    "                    'HRF 4-6':tdf[tdf.columns[3:6]].sum(axis=1),\n",
    "                    'HRF 7-9':tdf[tdf.columns[6:9]].sum(axis=1),\n",
    "                    'HRF 10-12':tdf[tdf.columns[9:12]].sum(axis=1),\n",
    "                    'HRF 13-15':tdf[tdf.columns[12:15]].sum(axis=1),\n",
    "                    'HRF 16-18':tdf[tdf.columns[15:18]].sum(axis=1),\n",
    "                    'HRF 19-21':tdf[tdf.columns[18:21]].sum(axis=1),\n",
    "                    'HRF 22-24':tdf[tdf.columns[21:24]].sum(axis=1)\n",
    "                   })\n",
    "df_3s = pd.DataFrame({\n",
    "                    'Mean':df_3.iloc[:,1:].mean(),'Variance':df_3.iloc[:,1:].var(),\n",
    "                    'Standard Deviation':df_3.iloc[:,1:].std(),\n",
    "                    'Skewness':df_3.iloc[:,1:].skew()\n",
    "                     })\n",
    "\n",
    "# print(df_3s.head())"
   ]
  },
  {
   "cell_type": "markdown",
   "id": "9c404e29",
   "metadata": {},
   "source": [
    "# Six hours aggregate"
   ]
  },
  {
   "cell_type": "code",
   "execution_count": 153,
   "id": "96ab8116",
   "metadata": {},
   "outputs": [],
   "source": [
    "df_6 = pd.DataFrame({'Date': ndt,\n",
    "                    'HRF 1-6':df_3[df_3.columns[1:3]].sum(axis=1),\n",
    "                    'HRF 7-12':df_3[df_3.columns[3:5]].sum(axis=1),\n",
    "                    'HRF 13-18':df_3[df_3.columns[5:7]].sum(axis=1),\n",
    "                    'HRF 19-24':df_3[df_3.columns[7:9]].sum(axis=1)\n",
    "                    })\n",
    "df_6s = pd.DataFrame({\n",
    "                    'Mean':df_6.iloc[:,1:].mean(),'Variance':df_6.iloc[:,1:].var(),\n",
    "                    'Standard Deviation':df_6.iloc[:,1:].std(),\n",
    "                    'Skewness':df_6.iloc[:,1:].skew()\n",
    "                     })\n",
    "# print(df_6s.head())"
   ]
  },
  {
   "cell_type": "markdown",
   "id": "cfe3a9bf",
   "metadata": {},
   "source": [
    "# Twelve hours aggregate"
   ]
  },
  {
   "cell_type": "code",
   "execution_count": 137,
   "id": "2f21772c",
   "metadata": {},
   "outputs": [
    {
     "name": "stdout",
     "output_type": "stream",
     "text": [
      "        Date  HRF 1-12  HRF 13-24\n",
      "0 1969-01-01       0.0        0.0\n",
      "1 1969-01-02       0.0        0.0\n",
      "2 1969-01-03       0.0        0.0\n",
      "3 1969-01-04       0.0        0.0\n",
      "4 1969-01-05       0.0        0.0\n"
     ]
    }
   ],
   "source": [
    "df_12 = pd.DataFrame({'Date': ndt,\n",
    "                    'HRF 1-12':df_6[df_6.columns[1:3]].sum(axis=1),\n",
    "                    'HRF 13-24':df_6[df_6.columns[3:5]].sum(axis=1),\n",
    "                    })\n",
    "print(df_12.head())"
   ]
  },
  {
   "cell_type": "code",
   "execution_count": 133,
   "id": "39c18ba3",
   "metadata": {},
   "outputs": [
    {
     "data": {
      "text/plain": [
       "DatetimeIndex(['1969-01-31', '1969-02-28', '1969-03-31', '1969-04-30',\n",
       "               '1969-05-31', '1969-06-30', '1969-07-31', '1969-08-31',\n",
       "               '1969-09-30', '1969-10-31',\n",
       "               ...\n",
       "               '2003-03-31', '2003-04-30', '2003-05-31', '2003-06-30',\n",
       "               '2003-07-31', '2003-08-31', '2003-09-30', '2003-10-31',\n",
       "               '2003-11-30', '2003-12-31'],\n",
       "              dtype='datetime64[ns]', length=420, freq='M')"
      ]
     },
     "execution_count": 133,
     "metadata": {},
     "output_type": "execute_result"
    }
   ],
   "source": []
  },
  {
   "cell_type": "markdown",
   "id": "a2a861b9",
   "metadata": {},
   "source": [
    "# 15 days aggregate"
   ]
  },
  {
   "cell_type": "code",
   "execution_count": 184,
   "id": "773e089e",
   "metadata": {},
   "outputs": [
    {
     "name": "stdout",
     "output_type": "stream",
     "text": [
      "   Days  Total Rainfall\n",
      "0     0             0.0\n",
      "1    15             0.0\n",
      "2    30             0.0\n",
      "3    45             0.0\n",
      "4    60             0.0\n"
     ]
    }
   ],
   "source": [
    "t_15d = list()\n",
    "for i in range(852):\n",
    "    t_15d.append(df.iloc[0+15*i:15+15*i,27].sum())\n",
    "days = np.arange(0,852)*15\n",
    "\n",
    "df_15d = pd.DataFrame({'Days':days,'Total Rainfall':t_15d})\n",
    "print(df_15d.head())"
   ]
  },
  {
   "cell_type": "code",
   "execution_count": 220,
   "id": "2c6d4c1f",
   "metadata": {
    "scrolled": true
   },
   "outputs": [
    {
     "name": "stdout",
     "output_type": "stream",
     "text": [
      "Year              1988.0\n",
      "Annual Maximum     432.8\n",
      "Name: 19, dtype: float64\n"
     ]
    },
    {
     "data": {
      "image/png": "[encoded data removed]",
      "text/plain": [
       "<Figure size 432x288 with 1 Axes>"
      ]
     },
     "metadata": {
      "needs_background": "light"
     },
     "output_type": "display_data"
    }
   ],
   "source": [
    "an_mx = list()\n",
    "for i in range(35):\n",
    "    an_mx.append(df[df['year']==1969+i].iloc[:,27].max())\n",
    "\n",
    "df_anmx = pd.DataFrame({'Year':np.arange(35)+1969,'Annual Maximum':an_mx})\n",
    "\n",
    "#printing highest rainfall\n",
    "\n",
    "print(df_anmx.loc[df_anmx.iloc[:,1].idxmax()])\n",
    "\n",
    "#plotting annual maximum series\n",
    "plt.plot(df_anmx['Year'],df_anmx['Annual Maximum'],color='black',label='series')\n",
    "plt.scatter(df_anmx['Year'],df_anmx['Annual Maximum'],color='black',label='annual maximum')\n",
    "plt.title('Annual Maximum Series')\n",
    "plt.xlabel(\"Year\")\n",
    "plt.ylabel(\"Annual Maximum Rainfall (mm)\")\n",
    "plt.legend()\n",
    "plt.show()"
   ]
  }
 ],
 "metadata": {
  "kernelspec": {
   "display_name": "Python 3 (ipykernel)",
   "language": "python",
   "name": "python3"
  },
  "language_info": {
   "codemirror_mode": {
    "name": "ipython",
    "version": 3
   },
   "file_extension": ".py",
   "mimetype": "text/x-python",
   "name": "python",
   "nbconvert_exporter": "python",
   "pygments_lexer": "ipython3",
   "version": "3.8.10"
  }
 },
 "nbformat": 4,
 "nbformat_minor": 5
}
